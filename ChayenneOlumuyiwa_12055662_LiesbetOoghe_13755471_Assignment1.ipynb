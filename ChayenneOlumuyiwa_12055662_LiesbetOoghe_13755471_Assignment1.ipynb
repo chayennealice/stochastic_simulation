{
 "cells": [
  {
   "cell_type": "markdown",
   "id": "0ab03e77-6c5d-42e6-9315-6af481177f99",
   "metadata": {},
   "source": [
    "# Assignment 1: Computing the Area of the Mandelbrot Set\n",
    "\n",
    "Chayenne Olumuyiwa (12055662) & Liesbet Ooghe (13755471)"
   ]
  },
  {
   "cell_type": "code",
   "execution_count": 1,
   "id": "23e8af74-45e9-4bf4-a0c9-62968ea10398",
   "metadata": {},
   "outputs": [],
   "source": [
    "import matplotlib.pyplot as plt\n",
    "import numpy as np\n",
    "import math\n",
    "import random\n",
    "from scipy.stats import qmc"
   ]
  },
  {
   "cell_type": "markdown",
   "id": "25a0e327-6afe-4e89-86ab-c43eb8ad6d5d",
   "metadata": {},
   "source": [
    "In this notebook we are exploring the Mandelbrot set, and we estimate its area using a Monte Carlo integration. We will do this by visualizing the interesting set of numbers, and perform a Monte Carlo approach using three different sampling techniques."
   ]
  },
  {
   "cell_type": "code",
   "execution_count": null,
   "id": "974d75e0-a0cb-4549-9eec-ba799084dd3a",
   "metadata": {},
   "outputs": [],
   "source": [
    "def converges(a0, b0, iterations):\n",
    "    \"\"\"\n",
    "    Defines if the point (a0, b0) converges following the Mandelbrot Iteration (Z_{n+1} = Z_n ^2 + c) after iterations iterations\n",
    "    \"\"\"\n",
    "    a = a0\n",
    "    b = b0\n",
    "\n",
    "    for i in range(iterations):\n",
    "        a_temporary = a\n",
    "        a = (a**2 - b**2) + a0\n",
    "        b = (2 * a_temporary * b) + b0\n",
    "\n",
    "        if abs(a) > 100 and abs(b) > 100:\n",
    "            return False\n",
    "        \n",
    "    return True"
   ]
  },
  {
   "cell_type": "code",
   "execution_count": null,
   "id": "f4226af6-7605-4e3b-bf2d-49011d1863b2",
   "metadata": {},
   "outputs": [],
   "source": [
    "def calculate_area(Samples, Iterations):\n",
    "    a = np.array([coord[0] for coord in Samples])\n",
    "    b = np.array([coord[1] for coord in Samples])\n",
    "    \n",
    "    converges_results = np.array([converges(a0, b0, Iterations) for a0, b0 in zip(a, b)])\n",
    "    N_converges = np.sum(converges_results)\n",
    "    \n",
    "    area = N_converges / len(a) * 9  # Scale by the area of the space you're sampling\n",
    "\n",
    "    return area"
   ]
  },
  {
   "cell_type": "markdown",
   "id": "5ae095b7-e597-40b1-8841-5cd8771ede65",
   "metadata": {},
   "source": [
    "In order to estimate the area, we will use different forms of sampling. Pure random sampling, latin hypercube sampling, and orthogonal sampling.\n"
   ]
  },
  {
   "cell_type": "code",
   "execution_count": null,
   "id": "e3929a03-7d3f-4420-bc15-d32ade7899ce",
   "metadata": {},
   "outputs": [],
   "source": [
    "def pure_random(n):\n",
    "    return [[random.random()*3-2, random.random()*3-1.5] for x in range(n)]"
   ]
  },
  {
   "cell_type": "code",
   "execution_count": null,
   "id": "2d2d55d7-690f-4245-a2b8-0349f1887c78",
   "metadata": {},
   "outputs": [],
   "source": [
    "def latin_hypercube(n):\n",
    "    LHC_object = qmc.LatinHypercube(2)\n",
    "    LHC = LHC_object.random(n)\n",
    "\n",
    "    for j in range(len(LHC)):\n",
    "        LHC[j, 0] = LHC[j, 0] * 3 - 2\n",
    "        LHC[j, 1] = LHC[j, 1] * 3 - 1.5\n",
    "\n",
    "    return LHC"
   ]
  },
  {
   "cell_type": "code",
   "execution_count": null,
   "id": "64439f23-cbed-40a5-aa2e-514d407ce9ac",
   "metadata": {},
   "outputs": [],
   "source": [
    "def orthogonal_sampling(Accuracy, n):\n",
    "    \"\"\"\n",
    "    Divides grid into Accuracy * Accuracy subsquares, then takes evenly orthogonal samples from each subsquare.\n",
    "    \"\"\"\n",
    "    samples = []\n",
    "\n",
    "    #Map total grid\n",
    "    x_intervals = np.linspace(-1, 2, Accuracy + 1)   # Later identified as faulty\n",
    "    y_intervals = np.linspace(-1.5, 1.5, Accuracy + 1) \n",
    "\n",
    "    #Find number of samples per grid square\n",
    "    grid_size = Accuracy ** 2\n",
    "    if n % grid_size == 0:\n",
    "        samples_per_square = int(n / grid_size)\n",
    "    else:\n",
    "        # Round up the amount of samples per square if it results in a float\n",
    "        samples_per_square = math.ceil(n / grid_size)  \n",
    "        \n",
    "    LHC_object = qmc.LatinHypercube(d=2) \n",
    "\n",
    "    #Perform hypercube sampling in eaach grid\n",
    "    for i in range(Accuracy):\n",
    "        for j in range(Accuracy):\n",
    "            x_start, x_end = x_intervals[i], x_intervals[i + 1]\n",
    "            y_start, y_end = y_intervals[j], y_intervals[j + 1]\n",
    "\n",
    "            LHC = LHC_object.random(samples_per_square)\n",
    "\n",
    "            for k in range(samples_per_square):\n",
    "                x_sample = LHC[k, 0] * (x_end - x_start) + x_start\n",
    "                y_sample = LHC[k, 1] * (y_end - y_start) + y_start\n",
    "\n",
    "                samples.append([x_sample, y_sample])\n",
    "\n",
    "    return samples"
   ]
  },
  {
   "cell_type": "markdown",
   "id": "8d0c01b6-ae18-40c2-8619-0870d0f439f3",
   "metadata": {},
   "source": [
    "First we will investigate what happens if we keep i constant (10 000), and start increasing the sample size from 1 to 500"
   ]
  },
  {
   "cell_type": "code",
   "execution_count": null,
   "id": "3a3d7e89-db75-4d4d-9816-9b132704d7e9",
   "metadata": {
    "scrolled": true
   },
   "outputs": [],
   "source": [
    "# First plot where i is set, s varies\n",
    "s_range = 500\n",
    "iterations = 10000\n",
    "repetitions = 100\n",
    "\n",
    "areas_random = []\n",
    "areas_lhc = []\n",
    "areas_orthogonal = []\n",
    "\n",
    "for n in range(1, s_range):\n",
    "    random_areas = []\n",
    "    lhc_areas = []\n",
    "    orthogonal_areas = []\n",
    "\n",
    "    for rep in range(repetitions):\n",
    "        samples_random = pure_random(n)\n",
    "        samples_lhc = latin_hypercube(n)\n",
    "        samples_orthogonal = orthogonal_sampling(4, n)\n",
    "        \n",
    "        area_random = calculate_area(samples_random, iterations)\n",
    "        area_lhc = calculate_area(samples_lhc, iterations)\n",
    "        area_orthogonal = calculate_area(samples_orthogonal, iterations)\n",
    "        \n",
    "        random_areas.append(area_random)\n",
    "        lhc_areas.append(area_lhc)\n",
    "        orthogonal_areas.append(area_orthogonal)\n",
    "\n",
    "    mean_random = np.mean(random_areas)\n",
    "    mean_lhc = np.mean(lhc_areas)\n",
    "    mean_orthogonal = np.mean(orthogonal_areas)\n",
    "    \n",
    "    ci_random = 1.96 * np.std(random_areas) / np.sqrt(repetitions)\n",
    "    ci_lhc = 1.96 * np.std(lhc_areas) / np.sqrt(repetitions)\n",
    "    ci_orthogonal = 1.96 * np.std(orthogonal_areas) / np.sqrt(repetitions)\n",
    "\n",
    "    areas_random.append((mean_random, ci_random))\n",
    "    areas_lhc.append((mean_lhc, ci_lhc))\n",
    "    areas_orthogonal.append((mean_orthogonal, ci_orthogonal))\n",
    "\n",
    "means_random, cis_random = zip(*areas_random)\n",
    "means_lhc, cis_lhc = zip(*areas_lhc)\n",
    "means_orthogonal, cis_orthogonal = zip(*areas_orthogonal)\n",
    "\n",
    "plt.figure(figsize=(8, 6))\n",
    "\n",
    "plt.fill_between(range(1, s_range), np.array(means_random) - np.array(cis_random), \n",
    "                 np.array(means_random) + np.array(cis_random), color='orange', alpha=0.3)\n",
    "plt.fill_between(range(1, s_range), np.array(means_lhc) - np.array(cis_lhc), \n",
    "                 np.array(means_lhc) + np.array(cis_lhc), color='purple', alpha=0.3)\n",
    "plt.fill_between(range(1, s_range), np.array(means_orthogonal) - np.array(cis_orthogonal), \n",
    "                 np.array(means_orthogonal) + np.array(cis_orthogonal), color='blue', alpha=0.3)\n",
    "\n",
    "plt.plot(range(1, s_range), means_random, label='Random Sampling', color='orange', linewidth=2)\n",
    "plt.plot(range(1, s_range), means_lhc, label='Latin Hypercube', color='purple', linewidth=2)\n",
    "plt.plot(range(1, s_range), means_orthogonal, label='Orthogonal Sampling', color='blue', linewidth=2)\n",
    "plt.ylim(0.5, 2.5) \n",
    "\n",
    "plt.xlabel('Number of Samples (s)', fontsize=12)\n",
    "plt.ylabel('Calculated Area', fontsize=12)\n",
    "plt.title('Estimated Area of the Mandelbrot Set (with Confidence Interval)', fontsize=14)\n",
    "plt.legend()\n",
    "\n",
    "plt.figtext(0.5, 0.01, 'For n_iteration = 10,000, and n_runs = 100', ha='center', va='bottom', fontsize=10)\n",
    "plt.show()\n",
    "print(f\"random value is {means_random[-1], cis_random[-1]}, lhc value is {means_lhc[-1], cis_lhc[-1]}, orthogonal value is {means_orthogonal[-1], cis_orthogonal[-1]}\")"
   ]
  },
  {
   "cell_type": "markdown",
   "id": "67268f68-0a21-4d59-af16-8fdb84bf6c13",
   "metadata": {},
   "source": [
    "Then we will set the amount of samples taken to 10 000, and vary the amount of iterations"
   ]
  },
  {
   "cell_type": "code",
   "execution_count": null,
   "id": "5d4ae1c5",
   "metadata": {},
   "outputs": [],
   "source": [
    "# Then plot where s is set, i varies\n",
    "s = 10000\n",
    "iterations_range = 500\n",
    "repetitions = 100\n",
    "\n",
    "areas_random = []\n",
    "areas_lhc = []\n",
    "areas_orthogonal = []\n",
    "\n",
    "for it in range(1,iterations_range):\n",
    "    random_areas = []\n",
    "    lhc_areas = []\n",
    "    orthogonal_areas = []\n",
    "    \n",
    "    for rep in range(100):\n",
    "        samples_random = pure_random(s)\n",
    "        samples_lhc = latin_hypercube(s)\n",
    "        samples_orthogonal = orthogonal_sampling (4, s)\n",
    "        \n",
    "        area_random = calculate_area(samples_random, it)\n",
    "        area_lhc = calculate_area(samples_lhc, it)\n",
    "        area_orthogonal = calculate_area(samples_orthogonal, it)\n",
    "        \n",
    "        random_areas.append(area_random)\n",
    "        lhc_areas.append(area_lhc)\n",
    "        orthogonal_areas.append(area_orthogonal)\n",
    "\n",
    "    mean_random = np.mean(random_areas)\n",
    "    mean_lhc = np.mean(lhc_areas)\n",
    "    mean_orthogonal = np.mean(orthogonal_areas)\n",
    "    \n",
    "    ci_random = 1.96 * np.std(random_areas) / np.sqrt(repetitions)\n",
    "    ci_lhc = 1.96 * np.std(lhc_areas) / np.sqrt(repetitions)\n",
    "    ci_orthogonal = 1.96 * np.std(orthogonal_areas) / np.sqrt(repetitions)\n",
    "\n",
    "    areas_random.append((mean_random, ci_random))\n",
    "    areas_lhc.append((mean_lhc, ci_lhc))\n",
    "    areas_orthogonal.append((mean_orthogonal, ci_orthogonal))\n",
    "\n",
    "means_random, cis_random = zip(*areas_random)\n",
    "means_lhc, cis_lhc = zip(*areas_lhc)\n",
    "means_orthogonal, cis_orthogonal = zip(*areas_orthogonal)\n",
    "        \n",
    "plt.figure(figsize=(8, 6))\n",
    "plt.fill_between(range(0, iterations_range), np.array(means_random) - np.array(cis_random), \n",
    "                 np.array(means_random) + np.array(cis_random), color='orange', alpha=0.3)\n",
    "plt.fill_between(range(0, iterations_range), np.array(means_lhc) - np.array(cis_lhc), \n",
    "                 np.array(means_lhc) + np.array(cis_lhc), color='purple', alpha=0.3)\n",
    "plt.fill_between(range(0, iterations_range), np.array(means_orthogonal) - np.array(cis_orthogonal), \n",
    "                 np.array(means_orthogonal) + np.array(cis_orthogonal), color='blue', alpha=0.3)\n",
    "        \n",
    "plt.plot(range(0, iterations_range), means_random, label='Random Sampling', color='orange', linewidth=2)\n",
    "plt.plot(range(0, iterations_range), means_lhc, label='Latin Hypercube', color='purple', linewidth=2)\n",
    "plt.plot(range(0, iterations_range), means_orthogonal, label='Orthogonal Sampling', color='blue', linewidth=2)\n",
    "plt.ylim(1.3, 1.65) \n",
    "        \n",
    "plt.xlabel('Number of Iterations (i)', fontsize=12)\n",
    "plt.ylabel('Calculated Area', fontsize=12)\n",
    "plt.title('Estimated Area of the Mandelbrot Set (with Confidence Interval)', fontsize=14)\n",
    "plt.legend()\n",
    "\n",
    "plt.figtext(0.5, 0.01, \"For n_samples = 10,000, and n_runs = 100\", ha='center', va='bottom', fontsize=10)\n",
    "plt.show        \n",
    "print(f\"random value is {means_random[-1], cis_random[-1]}, lhc value is {means_lhc[-1], cis_lhc[-1]}, orthogonal value is {means_orthogonal[-1], cis_orthogonal[-1]}\")"
   ]
  },
  {
   "cell_type": "markdown",
   "id": "8c58cc73",
   "metadata": {},
   "source": [
    "We want to make some nice images of the Mandelbrot set for thr introduction."
   ]
  },
  {
   "cell_type": "code",
   "execution_count": null,
   "id": "3faf62dd-fa11-4a82-820a-b84846aa609b",
   "metadata": {},
   "outputs": [],
   "source": [
    "def mandelbrot(list1):\n",
    "    Lx_blue, Ly_blue = [], []\n",
    "\n",
    "    for item in list1:\n",
    "        a0 = item[0]\n",
    "        b0 = item[1]\n",
    "\n",
    "        con = converges(a0, b0, 10000)\n",
    "\n",
    "        if con == True:\n",
    "            Lx_blue.append(a0)\n",
    "            Ly_blue.append(b0)\n",
    "\n",
    "    return Lx_blue, Ly_blue"
   ]
  },
  {
   "cell_type": "code",
   "execution_count": null,
   "id": "6a218a2a",
   "metadata": {},
   "outputs": [],
   "source": [
    "points = pure_random(1000000)\n",
    "MS_x, MS_y = mandelbrot(points)\n",
    "plt.plot(MS_x, MS_y, \"ko\", markersize = 0.5)\n",
    "plt.xlim(-2, 1)\n",
    "plt.ylim(-1.5, -1.5)\n",
    "plt.axis('square')\n",
    "plt.axis('off')\n",
    "plt.show()"
   ]
  },
  {
   "cell_type": "code",
   "execution_count": null,
   "id": "dd5954c1",
   "metadata": {},
   "outputs": [],
   "source": [
    "points_zoom = [[random.random()*3-2, random.random()*3-1.5] for _ in range(1000000)]\n",
    "MS_x_zoom, MS_y_zoom = mandelbrot(points_zoom)\n",
    "plt.plot(MS_x_zoom, MS_y_zoom, \"ko\", markersize = 0.5)\n",
    "plt.xlim(-2, 1)\n",
    "plt.ylim(-1.5, -1.5)\n",
    "plt.axis('square')\n",
    "plt.axis('off')\n",
    "plt.show()"
   ]
  },
  {
   "cell_type": "markdown",
   "id": "dc4ca6e9",
   "metadata": {},
   "source": [
    "We will briefly look into the area calculation usong Sobol sequences instead of teh other three sampling methods."
   ]
  },
  {
   "cell_type": "code",
   "execution_count": null,
   "id": "387a3119",
   "metadata": {},
   "outputs": [],
   "source": [
    "def sobol(m):\n",
    "    Sob_object = qmc.Sobol(2)\n",
    "    Sob = Sob_object.random_base2(m)\n",
    "\n",
    "    for j in range(len(Sob)):\n",
    "        Sob[j, 0] = Sob[j, 0] * 3 - 2\n",
    "        Sob[j, 1] = Sob[j, 1] * 3 - 1.5\n",
    "    \n",
    "    return Sob"
   ]
  },
  {
   "cell_type": "code",
   "execution_count": null,
   "id": "42dcfc30",
   "metadata": {},
   "outputs": [],
   "source": [
    "areas_sobol = []\n",
    "\n",
    "for n in range(1, 9):\n",
    "    print(\"hi\")\n",
    "    sobol_areas = []\n",
    "\n",
    "    for rep in range(100):\n",
    "        samples_sobol = sobol(n)\n",
    "        area_sobol = calculate_area(samples_sobol, 10000)\n",
    "        sobol_areas.append(area_sobol)\n",
    "\n",
    "    mean_sobol = np.mean(sobol_areas)\n",
    "    ci_sobol = 1.96 * np.std(sobol_areas) / np.sqrt(100)\n",
    "    areas_sobol.append((mean_sobol, ci_sobol))\n",
    "\n",
    "means_sobol, cis_sobol = zip(*areas_sobol)\n",
    "\n",
    "plt.figure(figsize=(8, 6))\n",
    "plt.fill_between([2 ** x for x in range(1, 9)], np.array(means_sobol) - np.array(cis_sobol), \n",
    "                 np.array(means_sobol) + np.array(cis_sobol), color='orange', alpha=0.3)\n",
    "plt.plot([2 ** x for x in range(1, 9)], means_sobol, label='Sobol Sequence', color='orange', linewidth=2)\n",
    "plt.ylim(0.5, 2.5) \n",
    "\n",
    "plt.xlabel('Number of Samples (s)', fontsize=12)\n",
    "plt.ylabel('Calculated Area', fontsize=12)\n",
    "plt.ylim(1.3, 1.65)\n",
    "plt.title('Estimated Area of the Mandelbrot Set (with Confidence Interval)', fontsize=14)\n",
    "plt.legend()\n",
    "\n",
    "plt.figtext(0.5, 0.01, 'For n_iteration = 10,000, and n_runs = 100', ha='center', va='bottom', fontsize=10)\n",
    "\n",
    "plt.show()"
   ]
  }
 ],
 "metadata": {
  "kernelspec": {
   "display_name": "Python 3",
   "language": "python",
   "name": "python3"
  },
  "language_info": {
   "codemirror_mode": {
    "name": "ipython",
    "version": 3
   },
   "file_extension": ".py",
   "mimetype": "text/x-python",
   "name": "python",
   "nbconvert_exporter": "python",
   "pygments_lexer": "ipython3",
   "version": "3.11.9"
  }
 },
 "nbformat": 4,
 "nbformat_minor": 5
}
