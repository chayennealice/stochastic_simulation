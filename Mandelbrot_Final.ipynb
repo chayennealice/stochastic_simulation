{
 "cells": [
  {
   "cell_type": "code",
   "execution_count": 1,
   "id": "23e8af74-45e9-4bf4-a0c9-62968ea10398",
   "metadata": {},
   "outputs": [],
   "source": [
    "import matplotlib.pyplot as plt\n",
    "import numpy as np\n",
    "import math\n",
    "import random\n",
    "from scipy.stats import qmc"
   ]
  },
  {
   "cell_type": "code",
   "execution_count": 2,
   "id": "974d75e0-a0cb-4549-9eec-ba799084dd3a",
   "metadata": {},
   "outputs": [],
   "source": [
    "def converges(a0, b0, iterations):\n",
    "    a = a0\n",
    "    b = b0\n",
    "\n",
    "    for i in range(iterations):\n",
    "        a_temporary = a\n",
    "        a = (a**2 - b**2) + a0\n",
    "        b = (2 * a_temporary * b) + b0\n",
    "\n",
    "        if abs(a) > 100 and abs(b) > 100:\n",
    "            return False\n",
    "        \n",
    "    return True"
   ]
  },
  {
   "cell_type": "code",
   "execution_count": 6,
   "id": "ed1ada08-269f-41f2-b0eb-e0a6a5b915e0",
   "metadata": {},
   "outputs": [],
   "source": [
    "def mandelbrot(list1, iterations):\n",
    "    Lx_blue, Ly_blue = [], []\n",
    "\n",
    "    for item in list1:\n",
    "        a0 = item[0]\n",
    "        b0 = item[1]\n",
    "\n",
    "        con = converges(a0, b0)\n",
    "\n",
    "        if con == True:\n",
    "            Lx_blue.append(a0)\n",
    "            Ly_blue.append(b0)\n",
    "\n",
    "    return Lx_blue, Ly_blue"
   ]
  },
  {
   "cell_type": "code",
   "execution_count": 4,
   "id": "fda67ace-4f1a-4877-b71c-3b063764a62e",
   "metadata": {},
   "outputs": [],
   "source": [
    "def plot(Lx, Ly):\n",
    "\n",
    "    plt.plot(Lx, Ly, \"bo\", markersize = 1)\n",
    "    plt.show()"
   ]
  },
  {
   "cell_type": "code",
   "execution_count": 5,
   "id": "f4226af6-7605-4e3b-bf2d-49011d1863b2",
   "metadata": {},
   "outputs": [],
   "source": [
    "def calculate_area(Samples, Iterations):\n",
    "    a, b = Samples[0], Samples[1] \n",
    "\n",
    "    a = np.array(a)\n",
    "    b = np.array(b)\n",
    "    \n",
    "    # Check amount of points in the Mandelbrot set\n",
    "    converges_results = np.array([converges(a0, b0, Iterations) for a0, b0 in zip(a, b)])\n",
    "    N_converges = np.sum(converges_results)\n",
    "\n",
    "    # Calculate the area\n",
    "    area = N_converges / len(a) * 9\n",
    "\n",
    "    return area"
   ]
  },
  {
   "cell_type": "markdown",
   "id": "5ae095b7-e597-40b1-8841-5cd8771ede65",
   "metadata": {},
   "source": [
    "#Sampling\n"
   ]
  },
  {
   "cell_type": "code",
   "execution_count": null,
   "id": "e3929a03-7d3f-4420-bc15-d32ade7899ce",
   "metadata": {},
   "outputs": [],
   "source": [
    "def pure_random(n):\n",
    "    return [[random.random()*3-2, random.random()*3-1.5] for x in range(n)]"
   ]
  },
  {
   "cell_type": "code",
   "execution_count": 8,
   "id": "2d2d55d7-690f-4245-a2b8-0349f1887c78",
   "metadata": {},
   "outputs": [],
   "source": [
    "def latin_hypercube(n):\n",
    "    LHC_object = qmc.LatinHypercube(2)\n",
    "    LHC = LHC_object.random(n)\n",
    "\n",
    "    for j in range(len(LHC)):\n",
    "        LHC[j, 0] = LHC[j, 0] * 3 - 2\n",
    "        LHC[j, 1] = LHC[j, 1] * 3 - 1.5\n",
    "\n",
    "    return LHC"
   ]
  },
  {
   "cell_type": "code",
   "execution_count": 10,
   "id": "64439f23-cbed-40a5-aa2e-514d407ce9ac",
   "metadata": {},
   "outputs": [],
   "source": [
    "def orthogonal_sampling(Accuracy, Samples):\n",
    "    a = []\n",
    "    b = [] \n",
    "    \n",
    "    x_intervals = np.linspace(-1, 2, Accuracy + 1)  \n",
    "    y_intervals = np.linspace(-1.5, 1.5, Accuracy + 1)  \n",
    "\n",
    "    # Calculate number of samples per grid square\n",
    "    if Samples % (Accuracy ** 2) == 0:\n",
    "        samples_per_square = int(Samples / (Accuracy ** 2))\n",
    "    else: \n",
    "        print(\"Warning! Amount of samples is not a multiple of grid subsquares!\")\n",
    "        samples_per_square = math.ceil(Samples / (Accuracy ** 2))\n",
    "\n",
    "    print(f\"samples_per_square = {samples_per_square}\")\n",
    "    \n",
    "    all_samples = []\n",
    "\n",
    "    # Loop through each grid square to generate samples\n",
    "    for i in range(Accuracy):\n",
    "        for j in range(Accuracy):\n",
    "            # Define current grid square\n",
    "            x_start, x_end = x_intervals[i], x_intervals[i + 1]\n",
    "            y_start, y_end = y_intervals[j], y_intervals[j + 1]\n",
    "\n",
    "            LHC_object = qmc.LatinHypercube(2)  \n",
    "            LHC = LHC_object.random(samples_per_square) \n",
    "\n",
    "            for k in range(len(LHC)):\n",
    "                LHC[k, 0] = LHC[k, 0] * (x_end - x_start) + x_start  # Scale to [x_start, x_end]\n",
    "                LHC[k, 1] = LHC[k, 1] * (y_end - y_start) + y_start  # Scale to [y_start, y_end]\n",
    "                \n",
    "                a.append(LHC[k,0])\n",
    "                b.append(LHC[k,1])\n",
    "                \n",
    "    return a, b"
   ]
  },
  {
   "cell_type": "code",
   "execution_count": 11,
   "id": "c9706e7b-d87c-4ede-a4f4-291e7fbadd78",
   "metadata": {},
   "outputs": [],
   "source": [
    "def get_confidence(data, p=0.95):\n",
    "    mean = np.mean(data)\n",
    "    n = len(data)\n",
    "    lamb = stats.t.ppf((1 + p) / 2, n - 1)\n",
    "    standard_dev = np.std(data)\n",
    "    confidence = (lamb * sigma)\n",
    "    return mean, confidence"
   ]
  }
 ],
 "metadata": {
  "kernelspec": {
   "display_name": "Python 3 (ipykernel)",
   "language": "python",
   "name": "python3"
  },
  "language_info": {
   "codemirror_mode": {
    "name": "ipython",
    "version": 3
   },
   "file_extension": ".py",
   "mimetype": "text/x-python",
   "name": "python",
   "nbconvert_exporter": "python",
   "pygments_lexer": "ipython3",
   "version": "3.13.0"
  }
 },
 "nbformat": 4,
 "nbformat_minor": 5
}
