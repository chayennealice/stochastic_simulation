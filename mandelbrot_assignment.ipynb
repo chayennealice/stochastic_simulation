{
 "cells": [
  {
   "cell_type": "markdown",
   "id": "73780341-797e-4a73-83de-7ed4e633a4e5",
   "metadata": {},
   "source": [
    "Code to implement the mandelbrot Set"
   ]
  },
  {
   "cell_type": "markdown",
   "id": "a785f5b1-8db7-4ea6-ac63-fe723cf8b5f1",
   "metadata": {},
   "source": [
    "Note: The entire Mandelbrot set fits in a circle with a radius of two when depicted on the complex plane. This is a handy fact that’ll let you skip many unnecessary calculations for points that certainly don’t belong to the set. (https://realpython.com/mandelbrot-set-python/)"
   ]
  },
  {
   "cell_type": "markdown",
   "id": "21b86376-3217-4ef6-aa5b-f12bd3b020f1",
   "metadata": {},
   "source": [
    "First we recursively define the iteration performed by the mandelbrot set, defined as \\\n",
    "$z_{n+1} = z_{n}^2 + c$, \\\n",
    "where C is a constant."
   ]
  },
  {
   "cell_type": "code",
   "execution_count": 38,
   "id": "f8649379-75b2-46f5-a345-b3dae4b2204f",
   "metadata": {},
   "outputs": [
    {
     "name": "stdout",
     "output_type": "stream",
     "text": [
      "z0 = 0\n",
      "z1 = 1\n",
      "z2 = 2\n",
      "z3 = 5\n",
      "z4 = 26\n",
      "z5 = 677\n",
      "z6 = 458330\n",
      "z7 = 210066388901\n",
      "z8 = 44127887745906175987802\n",
      "z9 = 1947270476915296449559703445493848930452791205\n"
     ]
    }
   ],
   "source": [
    "def z(n, c):\n",
    "    if n == 0:\n",
    "        return 0\n",
    "    else:\n",
    "       return z(n-1, c)**2 + c\n",
    "\n",
    "for i in range(10):\n",
    "    print(f\"z{i} = {z(i,1)}\")\n"
   ]
  },
  {
   "cell_type": "code",
   "execution_count": null,
   "id": "5c37b16a-9f09-41ed-a2c8-c873c0251d99",
   "metadata": {},
   "outputs": [],
   "source": []
  }
 ],
 "metadata": {
  "kernelspec": {
   "display_name": "Python 3 (ipykernel)",
   "language": "python",
   "name": "python3"
  },
  "language_info": {
   "codemirror_mode": {
    "name": "ipython",
    "version": 3
   },
   "file_extension": ".py",
   "mimetype": "text/x-python",
   "name": "python",
   "nbconvert_exporter": "python",
   "pygments_lexer": "ipython3",
   "version": "3.11.7"
  }
 },
 "nbformat": 4,
 "nbformat_minor": 5
}
